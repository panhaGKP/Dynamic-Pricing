{
 "cells": [
  {
   "cell_type": "code",
   "execution_count": 3,
   "metadata": {},
   "outputs": [],
   "source": [
    "# %pip install snowflake-connector-python\n",
    "# %pip install python-dotenv\n",
    "# %pip install seaborn"
   ]
  },
  {
   "cell_type": "code",
   "execution_count": 1,
   "metadata": {},
   "outputs": [],
   "source": [
    "import pandas as pd\n",
    "import numpy as np\n",
    "import snowflake.connector as sf\n",
    "from dotenv import load_dotenv\n",
    "import os"
   ]
  },
  {
   "cell_type": "code",
   "execution_count": 3,
   "metadata": {},
   "outputs": [],
   "source": [
    "#import python package\n",
    "import json\n",
    "import sys\n",
    "# import cachetools\n",
    "\n",
    "#import Snowflake modules\n",
    "from snowflake.snowpark import Session\n",
    "# import snowflake.snowpark.function as F\n",
    "import snowflake.snowpark.types as T\n",
    "# Do insert with Credentials in .env instead\n",
    "load_dotenv()\n",
    "\n",
    "# Connect to Snowflake\n",
    "USER = os.getenv(\"SNOWFLAKE_USER\")\n",
    "PASSWORD = os.getenv(\"SNOWFLAKE_PASSWORD\")\n",
    "ACCOUNT = os.getenv(\"SNOWFLAKE_ACCOUNT\")\n",
    "WAREHOUSE = os.getenv(\"SNOWFLAKE_WAREHOUSE\")\n",
    "DATABASE = os.getenv(\"SNOWFLAKE_DATABASE\")\n",
    "SCHEMA = os.getenv(\"SNOWFLAKE_SCHEMA\")\n",
    "ROLE = os.getenv(\"SNOWFLAKE_ROLE\")"
   ]
  },
  {
   "cell_type": "code",
   "execution_count": 4,
   "metadata": {},
   "outputs": [
    {
     "name": "stderr",
     "output_type": "stream",
     "text": [
      "c:\\Users\\panha.vuthy\\AppData\\Local\\Programs\\Python\\Python311\\Lib\\site-packages\\snowflake\\connector\\config_manager.py:351: UserWarning: Bad owner or permissions on C:\\Users\\panha.vuthy\\AppData\\Local\\snowflake\\config.toml\n",
      "  warn(f\"Bad owner or permissions on {str(filep)}{chmod_message}\")\n"
     ]
    }
   ],
   "source": [
    "# ctx = sf.connect(\n",
    "#     user=USER,\n",
    "#     password=PASSWORD,\n",
    "#     account=ACCOUNT,\n",
    "#     warehouse=WAREHOUSE,\n",
    "#     database=DATABASE,\n",
    "#     schema=SCHEMA,\n",
    "#     role=ROLE,\n",
    "#     session_parameters={\n",
    "#         'QUERY_TAG': 'Panha Project Jupiter Notebook',\n",
    "#     }\n",
    "# )\n",
    "\n",
    "# specify connection parameters\n",
    "connection_parameters = {\n",
    "    \"account\": ACCOUNT,\n",
    "    \"user\": USER,\n",
    "    \"password\": PASSWORD,\n",
    "    \"role\": ROLE,\n",
    "    \"warehouse\": WAREHOUSE,\n",
    "    \"database\": DATABASE,\n",
    "    \"schema\": SCHEMA,\n",
    "}\n",
    "\n",
    "# create Snowpark session\n",
    "session = Session.builder.configs(connection_parameters).create()"
   ]
  },
  {
   "cell_type": "code",
   "execution_count": 7,
   "metadata": {},
   "outputs": [],
   "source": [
    "# Select from Fact table: Date, PRODUCT_SKU, GROSS_SALES, NUMBER_OF_ORDERS, NUMBER_OF_CUSTOMERS, NUMBER_OF_UNITS_SOLD, CUSTOMER_SEGMENT, AVG_DISCOUNT_RATE, COST_OF_GOODS_SOLD"
   ]
  },
  {
   "cell_type": "code",
   "execution_count": 8,
   "metadata": {},
   "outputs": [],
   "source": [
    "# def exec_query(query):\n",
    "#     cs = ctx.cursor()\n",
    "#     try:\n",
    "#         cs.execute(query)\n",
    "#         return cs.fetchall()\n",
    "#     finally:\n",
    "#         cs.close()"
   ]
  },
  {
   "cell_type": "code",
   "execution_count": 5,
   "metadata": {},
   "outputs": [],
   "source": [
    "# Treat outliers in the 'NUM_ORDERS' column\n",
    "def treat_outliers(df, column, outlier_percentages):\n",
    "    Q1 = df[column].quantile(0.25)\n",
    "    Q3 = df[column].quantile(0.75)\n",
    "    IQR = Q3 - Q1\n",
    "    lower_bound = Q1 - 1.5 * IQR\n",
    "    upper_bound = Q3 + 1.5 * IQR\n",
    "    # if any of the numerical columns have outliers that under 5%, we can keep them, otherwise we treat theme with mean imputation\n",
    "    if outlier_percentages[column] < 5:\n",
    "        df[column] = np.where(df[column] < lower_bound, lower_bound, df[column])\n",
    "        df[column] = np.where(df[column] > upper_bound, upper_bound, df[column])\n",
    "    else:\n",
    "        df[column] = np.where(df[column] < lower_bound, df[column].mean(), df[column])\n",
    "        df[column] = np.where(df[column] > upper_bound, df[column].mean(), df[column])\n",
    "    return df"
   ]
  },
  {
   "cell_type": "code",
   "execution_count": 6,
   "metadata": {},
   "outputs": [],
   "source": [
    "product_sku = 'B33_S3'"
   ]
  },
  {
   "cell_type": "markdown",
   "metadata": {},
   "source": [
    "# 1. Data Collection"
   ]
  },
  {
   "cell_type": "markdown",
   "metadata": {},
   "source": [
    "This part we will forcus on only Product SKU = ```B33_S3```"
   ]
  },
  {
   "cell_type": "code",
   "execution_count": 13,
   "metadata": {},
   "outputs": [],
   "source": [
    "raw_data = session.sql(f\"\"\"\n",
    "SELECT \n",
    "    FACT_ORDER_LINE_ITEM_BASE.ORDER_DATE AS \"DATE\",\n",
    "    LU_PRD_PRODUCT_SKU.PRODUCT_SKU_RETAIL_PRICE AS \"RETAIL_RPICE\",\n",
    "    REL_CUS_SEGMENTATION_RFM.CLUSTER AS \"CUSTOMER_SEGMENT\",\n",
    "    COUNT(DISTINCT(FACT_ORDER_LINE_ITEM_BASE.ORDER_CODE)) AS \"NUM_ORDERS\",\n",
    "    SUM(FACT_ORDER_LINE_ITEM_BASE.ORDERED_QUANTITY) AS \"UNITS_SOLD\",\n",
    "    AVG(FACT_ORDER_LINE_ITEM_BASE.DISCOUNT_RATE) AS \"AVG_DISCOUNT_RATE\",\n",
    "    SUM(FACT_ORDER_LINE_ITEM_BASE.SUPPLY_UNIT_COST) AS \"COGS\",\n",
    "FROM \n",
    "    LU_PRD_PRODUCT_SKU\n",
    "JOIN \n",
    "    LU_PRD_PRODUCT\n",
    "ON \n",
    "    LU_PRD_PRODUCT_SKU.PRODUCT_SKU = LU_PRD_PRODUCT.PRODUCT_SKU\n",
    "JOIN \n",
    "    FACT_ORDER_LINE_ITEM_BASE \n",
    "ON \n",
    "    FACT_ORDER_LINE_ITEM_BASE.PRODUCT_CODE = LU_PRD_PRODUCT.PRODUCT_CODE\n",
    "JOIN \n",
    "    LU_CUS_CUSTOMER \n",
    "ON\n",
    "    LU_CUS_CUSTOMER.CUSTOMER_CODE = FACT_ORDER_LINE_ITEM_BASE.CUSTOMER_CODE\n",
    "JOIN \n",
    "    REL_CUS_SEGMENTATION_RFM\n",
    "ON\n",
    "    REL_CUS_SEGMENTATION_RFM.CUSTOMER_CODE = FACT_ORDER_LINE_ITEM_BASE.CUSTOMER_CODE\n",
    "WHERE\n",
    "    LU_PRD_PRODUCT_SKU.PRODUCT_SKU IN  ('{product_sku}')\n",
    "    AND (YEAR(FACT_ORDER_LINE_ITEM_BASE.ORDER_DATE) BETWEEN 2021 AND 2023)\n",
    "GROUP BY\n",
    "    DATE, RETAIL_RPICE, CUSTOMER_SEGMENT\n",
    "ORDER BY\n",
    "    DATE ASC\n",
    "\"\"\").collect()"
   ]
  },
  {
   "cell_type": "code",
   "execution_count": 14,
   "metadata": {},
   "outputs": [],
   "source": [
    "df_raw_data = pd.DataFrame(raw_data)"
   ]
  },
  {
   "cell_type": "code",
   "execution_count": 15,
   "metadata": {},
   "outputs": [
    {
     "data": {
      "text/html": [
       "<div>\n",
       "<style scoped>\n",
       "    .dataframe tbody tr th:only-of-type {\n",
       "        vertical-align: middle;\n",
       "    }\n",
       "\n",
       "    .dataframe tbody tr th {\n",
       "        vertical-align: top;\n",
       "    }\n",
       "\n",
       "    .dataframe thead th {\n",
       "        text-align: right;\n",
       "    }\n",
       "</style>\n",
       "<table border=\"1\" class=\"dataframe\">\n",
       "  <thead>\n",
       "    <tr style=\"text-align: right;\">\n",
       "      <th></th>\n",
       "      <th>DATE</th>\n",
       "      <th>RETAIL_RPICE</th>\n",
       "      <th>CUSTOMER_SEGMENT</th>\n",
       "      <th>NUM_ORDERS</th>\n",
       "      <th>UNITS_SOLD</th>\n",
       "      <th>AVG_DISCOUNT_RATE</th>\n",
       "      <th>COGS</th>\n",
       "    </tr>\n",
       "  </thead>\n",
       "  <tbody>\n",
       "    <tr>\n",
       "      <th>0</th>\n",
       "      <td>2021-01-01</td>\n",
       "      <td>1497.736864</td>\n",
       "      <td>2</td>\n",
       "      <td>1</td>\n",
       "      <td>30.00</td>\n",
       "      <td>0.08000000</td>\n",
       "      <td>917.30</td>\n",
       "    </tr>\n",
       "    <tr>\n",
       "      <th>1</th>\n",
       "      <td>2021-01-01</td>\n",
       "      <td>1497.736864</td>\n",
       "      <td>0</td>\n",
       "      <td>6</td>\n",
       "      <td>150.00</td>\n",
       "      <td>0.04000000</td>\n",
       "      <td>4058.74</td>\n",
       "    </tr>\n",
       "    <tr>\n",
       "      <th>2</th>\n",
       "      <td>2021-01-02</td>\n",
       "      <td>1497.736864</td>\n",
       "      <td>0</td>\n",
       "      <td>1</td>\n",
       "      <td>35.00</td>\n",
       "      <td>0.01000000</td>\n",
       "      <td>758.38</td>\n",
       "    </tr>\n",
       "    <tr>\n",
       "      <th>3</th>\n",
       "      <td>2021-01-02</td>\n",
       "      <td>1497.736864</td>\n",
       "      <td>1</td>\n",
       "      <td>3</td>\n",
       "      <td>105.00</td>\n",
       "      <td>0.05000000</td>\n",
       "      <td>749.34</td>\n",
       "    </tr>\n",
       "    <tr>\n",
       "      <th>4</th>\n",
       "      <td>2021-01-03</td>\n",
       "      <td>1497.736864</td>\n",
       "      <td>1</td>\n",
       "      <td>1</td>\n",
       "      <td>18.00</td>\n",
       "      <td>0E-8</td>\n",
       "      <td>387.60</td>\n",
       "    </tr>\n",
       "    <tr>\n",
       "      <th>...</th>\n",
       "      <td>...</td>\n",
       "      <td>...</td>\n",
       "      <td>...</td>\n",
       "      <td>...</td>\n",
       "      <td>...</td>\n",
       "      <td>...</td>\n",
       "      <td>...</td>\n",
       "    </tr>\n",
       "    <tr>\n",
       "      <th>1570</th>\n",
       "      <td>2023-08-01</td>\n",
       "      <td>1497.736864</td>\n",
       "      <td>1</td>\n",
       "      <td>2</td>\n",
       "      <td>57.00</td>\n",
       "      <td>0.04000000</td>\n",
       "      <td>945.70</td>\n",
       "    </tr>\n",
       "    <tr>\n",
       "      <th>1571</th>\n",
       "      <td>2023-08-01</td>\n",
       "      <td>1497.736864</td>\n",
       "      <td>0</td>\n",
       "      <td>2</td>\n",
       "      <td>69.00</td>\n",
       "      <td>0.05000000</td>\n",
       "      <td>716.47</td>\n",
       "    </tr>\n",
       "    <tr>\n",
       "      <th>1572</th>\n",
       "      <td>2023-08-02</td>\n",
       "      <td>1497.736864</td>\n",
       "      <td>2</td>\n",
       "      <td>1</td>\n",
       "      <td>32.00</td>\n",
       "      <td>0.07000000</td>\n",
       "      <td>537.84</td>\n",
       "    </tr>\n",
       "    <tr>\n",
       "      <th>1573</th>\n",
       "      <td>2023-08-02</td>\n",
       "      <td>1497.736864</td>\n",
       "      <td>0</td>\n",
       "      <td>1</td>\n",
       "      <td>3.00</td>\n",
       "      <td>0.05000000</td>\n",
       "      <td>761.72</td>\n",
       "    </tr>\n",
       "    <tr>\n",
       "      <th>1574</th>\n",
       "      <td>2023-08-02</td>\n",
       "      <td>1497.736864</td>\n",
       "      <td>1</td>\n",
       "      <td>3</td>\n",
       "      <td>78.00</td>\n",
       "      <td>0.05000000</td>\n",
       "      <td>1744.82</td>\n",
       "    </tr>\n",
       "  </tbody>\n",
       "</table>\n",
       "<p>1575 rows × 7 columns</p>\n",
       "</div>"
      ],
      "text/plain": [
       "            DATE  RETAIL_RPICE  CUSTOMER_SEGMENT  NUM_ORDERS UNITS_SOLD  \\\n",
       "0     2021-01-01   1497.736864                 2           1      30.00   \n",
       "1     2021-01-01   1497.736864                 0           6     150.00   \n",
       "2     2021-01-02   1497.736864                 0           1      35.00   \n",
       "3     2021-01-02   1497.736864                 1           3     105.00   \n",
       "4     2021-01-03   1497.736864                 1           1      18.00   \n",
       "...          ...           ...               ...         ...        ...   \n",
       "1570  2023-08-01   1497.736864                 1           2      57.00   \n",
       "1571  2023-08-01   1497.736864                 0           2      69.00   \n",
       "1572  2023-08-02   1497.736864                 2           1      32.00   \n",
       "1573  2023-08-02   1497.736864                 0           1       3.00   \n",
       "1574  2023-08-02   1497.736864                 1           3      78.00   \n",
       "\n",
       "     AVG_DISCOUNT_RATE     COGS  \n",
       "0           0.08000000   917.30  \n",
       "1           0.04000000  4058.74  \n",
       "2           0.01000000   758.38  \n",
       "3           0.05000000   749.34  \n",
       "4                 0E-8   387.60  \n",
       "...                ...      ...  \n",
       "1570        0.04000000   945.70  \n",
       "1571        0.05000000   716.47  \n",
       "1572        0.07000000   537.84  \n",
       "1573        0.05000000   761.72  \n",
       "1574        0.05000000  1744.82  \n",
       "\n",
       "[1575 rows x 7 columns]"
      ]
     },
     "execution_count": 15,
     "metadata": {},
     "output_type": "execute_result"
    }
   ],
   "source": [
    "df_raw_data"
   ]
  },
  {
   "cell_type": "code",
   "execution_count": 12,
   "metadata": {},
   "outputs": [],
   "source": [
    "# Convert raw_data to DataFrame\n",
    "# columns = [\"DATE\", \"RETAIL_RPICE\", \"CUSTOMER_SEGMENT\", \"NUM_ORDERS\", \"UNITS_SOLD\", \"AVG_DISCOUNT_RATE\", \"COGS\"]\n",
    "# df_raw_data = pd.DataFrame(raw_data, columns=columns)"
   ]
  },
  {
   "cell_type": "markdown",
   "metadata": {},
   "source": [
    "1. Understand Structure of Dataset"
   ]
  },
  {
   "cell_type": "code",
   "execution_count": 16,
   "metadata": {},
   "outputs": [
    {
     "data": {
      "text/html": [
       "<div>\n",
       "<style scoped>\n",
       "    .dataframe tbody tr th:only-of-type {\n",
       "        vertical-align: middle;\n",
       "    }\n",
       "\n",
       "    .dataframe tbody tr th {\n",
       "        vertical-align: top;\n",
       "    }\n",
       "\n",
       "    .dataframe thead th {\n",
       "        text-align: right;\n",
       "    }\n",
       "</style>\n",
       "<table border=\"1\" class=\"dataframe\">\n",
       "  <thead>\n",
       "    <tr style=\"text-align: right;\">\n",
       "      <th></th>\n",
       "      <th>DATE</th>\n",
       "      <th>RETAIL_RPICE</th>\n",
       "      <th>CUSTOMER_SEGMENT</th>\n",
       "      <th>NUM_ORDERS</th>\n",
       "      <th>UNITS_SOLD</th>\n",
       "      <th>AVG_DISCOUNT_RATE</th>\n",
       "      <th>COGS</th>\n",
       "    </tr>\n",
       "  </thead>\n",
       "  <tbody>\n",
       "    <tr>\n",
       "      <th>0</th>\n",
       "      <td>2021-01-01</td>\n",
       "      <td>1497.736864</td>\n",
       "      <td>2</td>\n",
       "      <td>1</td>\n",
       "      <td>30.00</td>\n",
       "      <td>0.08000000</td>\n",
       "      <td>917.30</td>\n",
       "    </tr>\n",
       "    <tr>\n",
       "      <th>1</th>\n",
       "      <td>2021-01-01</td>\n",
       "      <td>1497.736864</td>\n",
       "      <td>0</td>\n",
       "      <td>6</td>\n",
       "      <td>150.00</td>\n",
       "      <td>0.04000000</td>\n",
       "      <td>4058.74</td>\n",
       "    </tr>\n",
       "    <tr>\n",
       "      <th>2</th>\n",
       "      <td>2021-01-02</td>\n",
       "      <td>1497.736864</td>\n",
       "      <td>0</td>\n",
       "      <td>1</td>\n",
       "      <td>35.00</td>\n",
       "      <td>0.01000000</td>\n",
       "      <td>758.38</td>\n",
       "    </tr>\n",
       "    <tr>\n",
       "      <th>3</th>\n",
       "      <td>2021-01-02</td>\n",
       "      <td>1497.736864</td>\n",
       "      <td>1</td>\n",
       "      <td>3</td>\n",
       "      <td>105.00</td>\n",
       "      <td>0.05000000</td>\n",
       "      <td>749.34</td>\n",
       "    </tr>\n",
       "    <tr>\n",
       "      <th>4</th>\n",
       "      <td>2021-01-03</td>\n",
       "      <td>1497.736864</td>\n",
       "      <td>1</td>\n",
       "      <td>1</td>\n",
       "      <td>18.00</td>\n",
       "      <td>0E-8</td>\n",
       "      <td>387.60</td>\n",
       "    </tr>\n",
       "  </tbody>\n",
       "</table>\n",
       "</div>"
      ],
      "text/plain": [
       "         DATE  RETAIL_RPICE  CUSTOMER_SEGMENT  NUM_ORDERS UNITS_SOLD  \\\n",
       "0  2021-01-01   1497.736864                 2           1      30.00   \n",
       "1  2021-01-01   1497.736864                 0           6     150.00   \n",
       "2  2021-01-02   1497.736864                 0           1      35.00   \n",
       "3  2021-01-02   1497.736864                 1           3     105.00   \n",
       "4  2021-01-03   1497.736864                 1           1      18.00   \n",
       "\n",
       "  AVG_DISCOUNT_RATE     COGS  \n",
       "0        0.08000000   917.30  \n",
       "1        0.04000000  4058.74  \n",
       "2        0.01000000   758.38  \n",
       "3        0.05000000   749.34  \n",
       "4              0E-8   387.60  "
      ]
     },
     "execution_count": 16,
     "metadata": {},
     "output_type": "execute_result"
    }
   ],
   "source": [
    "df_raw_data.head()"
   ]
  },
  {
   "cell_type": "markdown",
   "metadata": {},
   "source": [
    "# 2. Data Exploration"
   ]
  },
  {
   "cell_type": "code",
   "execution_count": 17,
   "metadata": {},
   "outputs": [
    {
     "name": "stdout",
     "output_type": "stream",
     "text": [
      "Number of rows: 1575\n",
      "Number of columns: 7\n"
     ]
    }
   ],
   "source": [
    "print(f\"Number of rows: {df_raw_data.shape[0]}\")\n",
    "print(f\"Number of columns: {df_raw_data.shape[1]}\")"
   ]
  },
  {
   "cell_type": "code",
   "execution_count": 18,
   "metadata": {},
   "outputs": [
    {
     "name": "stdout",
     "output_type": "stream",
     "text": [
      "Checking Column Data Types\n",
      "<class 'pandas.core.frame.DataFrame'>\n",
      "RangeIndex: 1575 entries, 0 to 1574\n",
      "Data columns (total 7 columns):\n",
      " #   Column             Non-Null Count  Dtype  \n",
      "---  ------             --------------  -----  \n",
      " 0   DATE               1575 non-null   object \n",
      " 1   RETAIL_RPICE       1575 non-null   float64\n",
      " 2   CUSTOMER_SEGMENT   1575 non-null   int64  \n",
      " 3   NUM_ORDERS         1575 non-null   int64  \n",
      " 4   UNITS_SOLD         1575 non-null   object \n",
      " 5   AVG_DISCOUNT_RATE  1575 non-null   object \n",
      " 6   COGS               1575 non-null   object \n",
      "dtypes: float64(1), int64(2), object(4)\n",
      "memory usage: 86.3+ KB\n"
     ]
    }
   ],
   "source": [
    "print(\"Checking Column Data Types\")\n",
    "df_raw_data.info()"
   ]
  },
  {
   "cell_type": "code",
   "execution_count": 19,
   "metadata": {},
   "outputs": [],
   "source": [
    "# Convert UUNIT_SOLD to int, AVG_DISCOUNT_RATE to float, and COGS to float\n",
    "df_raw_data['UNITS_SOLD'] = df_raw_data['UNITS_SOLD'].astype(int)\n",
    "df_raw_data['AVG_DISCOUNT_RATE'] = df_raw_data['AVG_DISCOUNT_RATE'].astype(float)\n",
    "df_raw_data['COGS'] = df_raw_data['COGS'].astype(float)\n",
    "\n",
    "#Convert Customer Segment to Category\n",
    "df_raw_data['CUSTOMER_SEGMENT'] = df_raw_data['CUSTOMER_SEGMENT'].astype('category')"
   ]
  },
  {
   "cell_type": "markdown",
   "metadata": {},
   "source": [
    "2. Summarize Data"
   ]
  },
  {
   "cell_type": "code",
   "execution_count": 20,
   "metadata": {},
   "outputs": [
    {
     "name": "stdout",
     "output_type": "stream",
     "text": [
      "Descriptive Statistics on numerical columns\n"
     ]
    },
    {
     "data": {
      "text/html": [
       "<div>\n",
       "<style scoped>\n",
       "    .dataframe tbody tr th:only-of-type {\n",
       "        vertical-align: middle;\n",
       "    }\n",
       "\n",
       "    .dataframe tbody tr th {\n",
       "        vertical-align: top;\n",
       "    }\n",
       "\n",
       "    .dataframe thead th {\n",
       "        text-align: right;\n",
       "    }\n",
       "</style>\n",
       "<table border=\"1\" class=\"dataframe\">\n",
       "  <thead>\n",
       "    <tr style=\"text-align: right;\">\n",
       "      <th></th>\n",
       "      <th>RETAIL_RPICE</th>\n",
       "      <th>NUM_ORDERS</th>\n",
       "      <th>UNITS_SOLD</th>\n",
       "      <th>AVG_DISCOUNT_RATE</th>\n",
       "      <th>COGS</th>\n",
       "    </tr>\n",
       "  </thead>\n",
       "  <tbody>\n",
       "    <tr>\n",
       "      <th>count</th>\n",
       "      <td>1.575000e+03</td>\n",
       "      <td>1575.000000</td>\n",
       "      <td>1575.000000</td>\n",
       "      <td>1575.000000</td>\n",
       "      <td>1575.000000</td>\n",
       "    </tr>\n",
       "    <tr>\n",
       "      <th>mean</th>\n",
       "      <td>1.497737e+03</td>\n",
       "      <td>1.506667</td>\n",
       "      <td>38.958730</td>\n",
       "      <td>0.050221</td>\n",
       "      <td>781.941562</td>\n",
       "    </tr>\n",
       "    <tr>\n",
       "      <th>std</th>\n",
       "      <td>2.274459e-13</td>\n",
       "      <td>0.779209</td>\n",
       "      <td>27.392534</td>\n",
       "      <td>0.028555</td>\n",
       "      <td>534.425070</td>\n",
       "    </tr>\n",
       "    <tr>\n",
       "      <th>min</th>\n",
       "      <td>1.497737e+03</td>\n",
       "      <td>1.000000</td>\n",
       "      <td>1.000000</td>\n",
       "      <td>0.000000</td>\n",
       "      <td>2.220000</td>\n",
       "    </tr>\n",
       "    <tr>\n",
       "      <th>25%</th>\n",
       "      <td>1.497737e+03</td>\n",
       "      <td>1.000000</td>\n",
       "      <td>19.000000</td>\n",
       "      <td>0.030000</td>\n",
       "      <td>392.975000</td>\n",
       "    </tr>\n",
       "    <tr>\n",
       "      <th>50%</th>\n",
       "      <td>1.497737e+03</td>\n",
       "      <td>1.000000</td>\n",
       "      <td>35.000000</td>\n",
       "      <td>0.050000</td>\n",
       "      <td>735.000000</td>\n",
       "    </tr>\n",
       "    <tr>\n",
       "      <th>75%</th>\n",
       "      <td>1.497737e+03</td>\n",
       "      <td>2.000000</td>\n",
       "      <td>50.000000</td>\n",
       "      <td>0.070000</td>\n",
       "      <td>984.655000</td>\n",
       "    </tr>\n",
       "    <tr>\n",
       "      <th>max</th>\n",
       "      <td>1.497737e+03</td>\n",
       "      <td>6.000000</td>\n",
       "      <td>175.000000</td>\n",
       "      <td>0.100000</td>\n",
       "      <td>4058.740000</td>\n",
       "    </tr>\n",
       "  </tbody>\n",
       "</table>\n",
       "</div>"
      ],
      "text/plain": [
       "       RETAIL_RPICE   NUM_ORDERS   UNITS_SOLD  AVG_DISCOUNT_RATE         COGS\n",
       "count  1.575000e+03  1575.000000  1575.000000        1575.000000  1575.000000\n",
       "mean   1.497737e+03     1.506667    38.958730           0.050221   781.941562\n",
       "std    2.274459e-13     0.779209    27.392534           0.028555   534.425070\n",
       "min    1.497737e+03     1.000000     1.000000           0.000000     2.220000\n",
       "25%    1.497737e+03     1.000000    19.000000           0.030000   392.975000\n",
       "50%    1.497737e+03     1.000000    35.000000           0.050000   735.000000\n",
       "75%    1.497737e+03     2.000000    50.000000           0.070000   984.655000\n",
       "max    1.497737e+03     6.000000   175.000000           0.100000  4058.740000"
      ]
     },
     "execution_count": 20,
     "metadata": {},
     "output_type": "execute_result"
    }
   ],
   "source": [
    "print(\"Descriptive Statistics on numerical columns\")\n",
    "df_raw_data.describe(include=[np.number])"
   ]
  },
  {
   "cell_type": "code",
   "execution_count": 21,
   "metadata": {},
   "outputs": [
    {
     "name": "stdout",
     "output_type": "stream",
     "text": [
      "<class 'pandas.core.frame.DataFrame'>\n",
      "RangeIndex: 1575 entries, 0 to 1574\n",
      "Data columns (total 7 columns):\n",
      " #   Column             Non-Null Count  Dtype   \n",
      "---  ------             --------------  -----   \n",
      " 0   DATE               1575 non-null   object  \n",
      " 1   RETAIL_RPICE       1575 non-null   float64 \n",
      " 2   CUSTOMER_SEGMENT   1575 non-null   category\n",
      " 3   NUM_ORDERS         1575 non-null   int64   \n",
      " 4   UNITS_SOLD         1575 non-null   int64   \n",
      " 5   AVG_DISCOUNT_RATE  1575 non-null   float64 \n",
      " 6   COGS               1575 non-null   float64 \n",
      "dtypes: category(1), float64(3), int64(2), object(1)\n",
      "memory usage: 75.6+ KB\n"
     ]
    }
   ],
   "source": [
    "df_raw_data.info()"
   ]
  },
  {
   "cell_type": "code",
   "execution_count": 22,
   "metadata": {},
   "outputs": [
    {
     "name": "stdout",
     "output_type": "stream",
     "text": [
      "Descriptive Statistics on categorical columns\n"
     ]
    },
    {
     "data": {
      "text/html": [
       "<div>\n",
       "<style scoped>\n",
       "    .dataframe tbody tr th:only-of-type {\n",
       "        vertical-align: middle;\n",
       "    }\n",
       "\n",
       "    .dataframe tbody tr th {\n",
       "        vertical-align: top;\n",
       "    }\n",
       "\n",
       "    .dataframe thead th {\n",
       "        text-align: right;\n",
       "    }\n",
       "</style>\n",
       "<table border=\"1\" class=\"dataframe\">\n",
       "  <thead>\n",
       "    <tr style=\"text-align: right;\">\n",
       "      <th></th>\n",
       "      <th>DATE</th>\n",
       "      <th>CUSTOMER_SEGMENT</th>\n",
       "    </tr>\n",
       "  </thead>\n",
       "  <tbody>\n",
       "    <tr>\n",
       "      <th>count</th>\n",
       "      <td>1575</td>\n",
       "      <td>1575</td>\n",
       "    </tr>\n",
       "    <tr>\n",
       "      <th>unique</th>\n",
       "      <td>875</td>\n",
       "      <td>3</td>\n",
       "    </tr>\n",
       "    <tr>\n",
       "      <th>top</th>\n",
       "      <td>2022-08-15</td>\n",
       "      <td>0</td>\n",
       "    </tr>\n",
       "    <tr>\n",
       "      <th>freq</th>\n",
       "      <td>3</td>\n",
       "      <td>618</td>\n",
       "    </tr>\n",
       "  </tbody>\n",
       "</table>\n",
       "</div>"
      ],
      "text/plain": [
       "              DATE  CUSTOMER_SEGMENT\n",
       "count         1575              1575\n",
       "unique         875                 3\n",
       "top     2022-08-15                 0\n",
       "freq             3               618"
      ]
     },
     "execution_count": 22,
     "metadata": {},
     "output_type": "execute_result"
    }
   ],
   "source": [
    "print(\"Descriptive Statistics on categorical columns\")\n",
    "df_raw_data.describe(include=[pd.Categorical, 'category'])"
   ]
  },
  {
   "cell_type": "markdown",
   "metadata": {},
   "source": [
    "3. Handle Missing Data"
   ]
  },
  {
   "cell_type": "code",
   "execution_count": 23,
   "metadata": {},
   "outputs": [
    {
     "data": {
      "text/plain": [
       "DATE                 0\n",
       "RETAIL_RPICE         0\n",
       "CUSTOMER_SEGMENT     0\n",
       "NUM_ORDERS           0\n",
       "UNITS_SOLD           0\n",
       "AVG_DISCOUNT_RATE    0\n",
       "COGS                 0\n",
       "dtype: int64"
      ]
     },
     "execution_count": 23,
     "metadata": {},
     "output_type": "execute_result"
    }
   ],
   "source": [
    "df_raw_data.isnull().sum()"
   ]
  },
  {
   "cell_type": "code",
   "execution_count": 24,
   "metadata": {},
   "outputs": [],
   "source": [
    "# incase there is missing data, drop the rows with missing data\n",
    "df_raw_data.dropna(inplace=True)"
   ]
  },
  {
   "cell_type": "markdown",
   "metadata": {},
   "source": [
    "4. Outliers Detection"
   ]
  },
  {
   "cell_type": "code",
   "execution_count": 25,
   "metadata": {},
   "outputs": [
    {
     "data": {
      "image/png": "[encoded data removed]",
      "text/plain": [
       "<Figure size 1500x1500 with 4 Axes>"
      ]
     },
     "metadata": {},
     "output_type": "display_data"
    }
   ],
   "source": [
    "import seaborn as sns\n",
    "\n",
    "import matplotlib.pyplot as plt\n",
    "\n",
    "# Set the style of the visualization\n",
    "sns.set_theme(style=\"whitegrid\")\n",
    "\n",
    "# Create a figure and axis\n",
    "fig, axes = plt.subplots(nrows=2, ncols=2, figsize=(15, 15))\n",
    "\n",
    "# List of numerical columns to plot\n",
    "numerical_columns = ['NUM_ORDERS', 'UNITS_SOLD', 'AVG_DISCOUNT_RATE', 'COGS']\n",
    "\n",
    "# Plot each numerical column\n",
    "for ax, column in zip(axes.flatten(), numerical_columns):\n",
    "    sns.boxplot(y=df_raw_data[column], ax=ax)\n",
    "    ax.set_title(f'Box plot of {column}')\n",
    "\n",
    "# Adjust layout\n",
    "plt.tight_layout()\n",
    "plt.show()"
   ]
  },
  {
   "cell_type": "code",
   "execution_count": 26,
   "metadata": {},
   "outputs": [
    {
     "name": "stdout",
     "output_type": "stream",
     "text": [
      "Percentage of outliers in each numerical column\n",
      "NUM_ORDERS: 2.48%\n",
      "UNITS_SOLD: 4.44%\n",
      "AVG_DISCOUNT_RATE: 0.00%\n",
      "COGS: 4.44%\n"
     ]
    }
   ],
   "source": [
    "# Calculate the percentage of outliers for each numerical column\n",
    "outlier_percentages = {}\n",
    "\n",
    "for column in numerical_columns:\n",
    "    Q1 = df_raw_data[column].quantile(0.25)\n",
    "    Q3 = df_raw_data[column].quantile(0.75)\n",
    "    IQR = Q3 - Q1\n",
    "    lower_bound = Q1 - 1.5 * IQR\n",
    "    upper_bound = Q3 + 1.5 * IQR\n",
    "    outliers = df_raw_data[(df_raw_data[column] < lower_bound) | (df_raw_data[column] > upper_bound)]\n",
    "    outlier_percentage = (len(outliers) / len(df_raw_data)) * 100\n",
    "    outlier_percentages[column] = outlier_percentage\n",
    "\n",
    "\n",
    "print(\"Percentage of outliers in each numerical column\")\n",
    "for column, percentage in outlier_percentages.items():\n",
    "    print(f\"{column}: {percentage:.2f}%\")"
   ]
  },
  {
   "cell_type": "code",
   "execution_count": 27,
   "metadata": {},
   "outputs": [],
   "source": [
    "# Treat outliers in the 'NUM_ORDERS' column\n",
    "def treat_outliers(df, column, outlier_percentages):\n",
    "    Q1 = df[column].quantile(0.25)\n",
    "    Q3 = df[column].quantile(0.75)\n",
    "    IQR = Q3 - Q1\n",
    "    lower_bound = Q1 - 1.5 * IQR\n",
    "    upper_bound = Q3 + 1.5 * IQR\n",
    "    # if any of the numerical columns have outliers that under 5%, we can keep them, otherwise we treat theme with mean imputation\n",
    "    if outlier_percentages[column] > 5:\n",
    "        df[column] = np.where(df[column] < lower_bound, df[column].mean(), df[column])\n",
    "        df[column] = np.where(df[column] > upper_bound, df[column].mean(), df[column])\n",
    "    return df"
   ]
  },
  {
   "cell_type": "code",
   "execution_count": 28,
   "metadata": {},
   "outputs": [],
   "source": [
    "df_raw_data = treat_outliers(df_raw_data, 'NUM_ORDERS', outlier_percentages)\n",
    "df_raw_data = treat_outliers(df_raw_data, 'UNITS_SOLD', outlier_percentages)\n",
    "df_raw_data = treat_outliers(df_raw_data, 'AVG_DISCOUNT_RATE', outlier_percentages)\n",
    "df_raw_data = treat_outliers(df_raw_data, 'COGS', outlier_percentages)"
   ]
  },
  {
   "cell_type": "code",
   "execution_count": 29,
   "metadata": {},
   "outputs": [
    {
     "name": "stdout",
     "output_type": "stream",
     "text": [
      "% of outliers in each numerical column\n",
      "NUM_ORDERS: 2.48%\n",
      "UNITS_SOLD: 4.44%\n",
      "AVG_DISCOUNT_RATE: 0.00%\n",
      "COGS: 4.44%\n"
     ]
    }
   ],
   "source": [
    "print(f'% of outliers in each numerical column')\n",
    "for column, percentage in outlier_percentages.items():\n",
    "    print(f\"{column}: {percentage:.2f}%\")"
   ]
  },
  {
   "cell_type": "code",
   "execution_count": 30,
   "metadata": {},
   "outputs": [
    {
     "data": {
      "text/plain": [
       "DATE                 0\n",
       "RETAIL_RPICE         0\n",
       "CUSTOMER_SEGMENT     0\n",
       "NUM_ORDERS           0\n",
       "UNITS_SOLD           0\n",
       "AVG_DISCOUNT_RATE    0\n",
       "COGS                 0\n",
       "dtype: int64"
      ]
     },
     "execution_count": 30,
     "metadata": {},
     "output_type": "execute_result"
    }
   ],
   "source": [
    "# check duplicate rows\n",
    "duplicate_rows = df_raw_data[df_raw_data.duplicated()]\n",
    "duplicate_rows.count()"
   ]
  },
  {
   "cell_type": "markdown",
   "metadata": {},
   "source": [
    "5. Understand the Distribution"
   ]
  },
  {
   "cell_type": "code",
   "execution_count": 31,
   "metadata": {},
   "outputs": [
    {
     "data": {
      "image/png": "[encoded data removed]",
      "text/plain": [
       "<Figure size 1500x1000 with 4 Axes>"
      ]
     },
     "metadata": {},
     "output_type": "display_data"
    }
   ],
   "source": [
    "# Plot histograms for numeric features to understand their distribution\n",
    "columns_for_hist = ['NUM_ORDERS','UNITS_SOLD', 'AVG_DISCOUNT_RATE', 'COGS']\n",
    "fig, axes = plt.subplots(nrows=2, ncols=2, figsize=(15, 10))\n",
    "\n",
    "# Plot each numerical column\n",
    "for ax, column in zip(axes.flatten(), columns_for_hist):\n",
    "    if column == 'AVG_DISCOUNT_RATE':\n",
    "        sns.histplot(df_raw_data[column], kde=True, bins=5, ax=ax)  # 4 or 5 bins\n",
    "    elif column == 'NUM_ORDERS':\n",
    "        sns.histplot(df_raw_data[column], ax=ax)\n",
    "    else:\n",
    "        sns.histplot(df_raw_data[column], kde=True, ax=ax)\n",
    "    ax.set_title(f'Histogram of {column}')\n",
    "\n",
    "# Adjust layout\n",
    "plt.tight_layout()\n",
    "plt.show()"
   ]
  },
  {
   "cell_type": "code",
   "execution_count": 32,
   "metadata": {},
   "outputs": [
    {
     "name": "stdout",
     "output_type": "stream",
     "text": [
      "Skewness:\n",
      " NUM_ORDERS           1.764771\n",
      "UNITS_SOLD           1.218976\n",
      "AVG_DISCOUNT_RATE    0.009150\n",
      "COGS                 1.189456\n",
      "dtype: float64\n",
      "\n",
      "Kurtosis:\n",
      " NUM_ORDERS           3.644543\n",
      "UNITS_SOLD           1.902015\n",
      "AVG_DISCOUNT_RATE   -0.965090\n",
      "COGS                 2.219711\n",
      "dtype: float64\n"
     ]
    }
   ],
   "source": [
    "# Calculate skewness and kurtosis for each numerical column\n",
    "skewness = df_raw_data[numerical_columns].skew()\n",
    "kurtosis = df_raw_data[numerical_columns].kurt()\n",
    "\n",
    "print(\"Skewness:\\n\", skewness)\n",
    "print(\"\\nKurtosis:\\n\", kurtosis)"
   ]
  },
  {
   "cell_type": "markdown",
   "metadata": {},
   "source": [
    "# 3. Data Preprocessing"
   ]
  },
  {
   "cell_type": "code",
   "execution_count": 33,
   "metadata": {},
   "outputs": [
    {
     "data": {
      "text/html": [
       "<div>\n",
       "<style scoped>\n",
       "    .dataframe tbody tr th:only-of-type {\n",
       "        vertical-align: middle;\n",
       "    }\n",
       "\n",
       "    .dataframe tbody tr th {\n",
       "        vertical-align: top;\n",
       "    }\n",
       "\n",
       "    .dataframe thead th {\n",
       "        text-align: right;\n",
       "    }\n",
       "</style>\n",
       "<table border=\"1\" class=\"dataframe\">\n",
       "  <thead>\n",
       "    <tr style=\"text-align: right;\">\n",
       "      <th></th>\n",
       "      <th>DATE</th>\n",
       "      <th>RETAIL_RPICE</th>\n",
       "      <th>CUSTOMER_SEGMENT</th>\n",
       "      <th>NUM_ORDERS</th>\n",
       "      <th>UNITS_SOLD</th>\n",
       "      <th>AVG_DISCOUNT_RATE</th>\n",
       "      <th>COGS</th>\n",
       "      <th>DATE_ORDINAL</th>\n",
       "    </tr>\n",
       "  </thead>\n",
       "  <tbody>\n",
       "    <tr>\n",
       "      <th>0</th>\n",
       "      <td>2021-01-01</td>\n",
       "      <td>1497.736864</td>\n",
       "      <td>2</td>\n",
       "      <td>1</td>\n",
       "      <td>30</td>\n",
       "      <td>0.08</td>\n",
       "      <td>917.30</td>\n",
       "      <td>737791</td>\n",
       "    </tr>\n",
       "    <tr>\n",
       "      <th>1</th>\n",
       "      <td>2021-01-01</td>\n",
       "      <td>1497.736864</td>\n",
       "      <td>0</td>\n",
       "      <td>6</td>\n",
       "      <td>150</td>\n",
       "      <td>0.04</td>\n",
       "      <td>4058.74</td>\n",
       "      <td>737791</td>\n",
       "    </tr>\n",
       "    <tr>\n",
       "      <th>2</th>\n",
       "      <td>2021-01-02</td>\n",
       "      <td>1497.736864</td>\n",
       "      <td>0</td>\n",
       "      <td>1</td>\n",
       "      <td>35</td>\n",
       "      <td>0.01</td>\n",
       "      <td>758.38</td>\n",
       "      <td>737792</td>\n",
       "    </tr>\n",
       "    <tr>\n",
       "      <th>3</th>\n",
       "      <td>2021-01-02</td>\n",
       "      <td>1497.736864</td>\n",
       "      <td>1</td>\n",
       "      <td>3</td>\n",
       "      <td>105</td>\n",
       "      <td>0.05</td>\n",
       "      <td>749.34</td>\n",
       "      <td>737792</td>\n",
       "    </tr>\n",
       "    <tr>\n",
       "      <th>4</th>\n",
       "      <td>2021-01-03</td>\n",
       "      <td>1497.736864</td>\n",
       "      <td>1</td>\n",
       "      <td>1</td>\n",
       "      <td>18</td>\n",
       "      <td>0.00</td>\n",
       "      <td>387.60</td>\n",
       "      <td>737793</td>\n",
       "    </tr>\n",
       "  </tbody>\n",
       "</table>\n",
       "</div>"
      ],
      "text/plain": [
       "        DATE  RETAIL_RPICE CUSTOMER_SEGMENT  NUM_ORDERS  UNITS_SOLD  \\\n",
       "0 2021-01-01   1497.736864                2           1          30   \n",
       "1 2021-01-01   1497.736864                0           6         150   \n",
       "2 2021-01-02   1497.736864                0           1          35   \n",
       "3 2021-01-02   1497.736864                1           3         105   \n",
       "4 2021-01-03   1497.736864                1           1          18   \n",
       "\n",
       "   AVG_DISCOUNT_RATE     COGS  DATE_ORDINAL  \n",
       "0               0.08   917.30        737791  \n",
       "1               0.04  4058.74        737791  \n",
       "2               0.01   758.38        737792  \n",
       "3               0.05   749.34        737792  \n",
       "4               0.00   387.60        737793  "
      ]
     },
     "execution_count": 33,
     "metadata": {},
     "output_type": "execute_result"
    }
   ],
   "source": [
    "# Convert DATE column to datetime\n",
    "df_raw_data['DATE'] = pd.to_datetime(df_raw_data['DATE'])\n",
    "\n",
    "df_raw_data['DATE_ORDINAL'] = df_raw_data['DATE'].apply(lambda x: x.toordinal())\n",
    "\n",
    "df_raw_data.head()"
   ]
  },
  {
   "cell_type": "code",
   "execution_count": 34,
   "metadata": {},
   "outputs": [],
   "source": [
    "retail_price = df_raw_data['RETAIL_RPICE'][0]"
   ]
  },
  {
   "cell_type": "markdown",
   "metadata": {},
   "source": [
    "6. Analyse relationship between variable"
   ]
  },
  {
   "cell_type": "code",
   "execution_count": 35,
   "metadata": {},
   "outputs": [
    {
     "data": {
      "text/html": [
       "<div>\n",
       "<style scoped>\n",
       "    .dataframe tbody tr th:only-of-type {\n",
       "        vertical-align: middle;\n",
       "    }\n",
       "\n",
       "    .dataframe tbody tr th {\n",
       "        vertical-align: top;\n",
       "    }\n",
       "\n",
       "    .dataframe thead th {\n",
       "        text-align: right;\n",
       "    }\n",
       "</style>\n",
       "<table border=\"1\" class=\"dataframe\">\n",
       "  <thead>\n",
       "    <tr style=\"text-align: right;\">\n",
       "      <th></th>\n",
       "      <th>CUSTOMER_SEGMENT</th>\n",
       "      <th>NUM_ORDERS</th>\n",
       "      <th>UNITS_SOLD</th>\n",
       "      <th>AVG_DISCOUNT_RATE</th>\n",
       "      <th>COGS</th>\n",
       "      <th>DATE_ORDINAL</th>\n",
       "    </tr>\n",
       "  </thead>\n",
       "  <tbody>\n",
       "    <tr>\n",
       "      <th>0</th>\n",
       "      <td>2</td>\n",
       "      <td>1</td>\n",
       "      <td>30</td>\n",
       "      <td>0.08</td>\n",
       "      <td>917.30</td>\n",
       "      <td>737791</td>\n",
       "    </tr>\n",
       "    <tr>\n",
       "      <th>1</th>\n",
       "      <td>0</td>\n",
       "      <td>6</td>\n",
       "      <td>150</td>\n",
       "      <td>0.04</td>\n",
       "      <td>4058.74</td>\n",
       "      <td>737791</td>\n",
       "    </tr>\n",
       "    <tr>\n",
       "      <th>2</th>\n",
       "      <td>0</td>\n",
       "      <td>1</td>\n",
       "      <td>35</td>\n",
       "      <td>0.01</td>\n",
       "      <td>758.38</td>\n",
       "      <td>737792</td>\n",
       "    </tr>\n",
       "    <tr>\n",
       "      <th>3</th>\n",
       "      <td>1</td>\n",
       "      <td>3</td>\n",
       "      <td>105</td>\n",
       "      <td>0.05</td>\n",
       "      <td>749.34</td>\n",
       "      <td>737792</td>\n",
       "    </tr>\n",
       "    <tr>\n",
       "      <th>4</th>\n",
       "      <td>1</td>\n",
       "      <td>1</td>\n",
       "      <td>18</td>\n",
       "      <td>0.00</td>\n",
       "      <td>387.60</td>\n",
       "      <td>737793</td>\n",
       "    </tr>\n",
       "  </tbody>\n",
       "</table>\n",
       "</div>"
      ],
      "text/plain": [
       "  CUSTOMER_SEGMENT  NUM_ORDERS  UNITS_SOLD  AVG_DISCOUNT_RATE     COGS  \\\n",
       "0                2           1          30               0.08   917.30   \n",
       "1                0           6         150               0.04  4058.74   \n",
       "2                0           1          35               0.01   758.38   \n",
       "3                1           3         105               0.05   749.34   \n",
       "4                1           1          18               0.00   387.60   \n",
       "\n",
       "   DATE_ORDINAL  \n",
       "0        737791  \n",
       "1        737791  \n",
       "2        737792  \n",
       "3        737792  \n",
       "4        737793  "
      ]
     },
     "execution_count": 35,
     "metadata": {},
     "output_type": "execute_result"
    }
   ],
   "source": [
    "# Select all columns except 'RETAIL_RPICE'\n",
    "df_selected = df_raw_data.drop(columns=['RETAIL_RPICE', 'DATE'])\n",
    "\n",
    "# Display the first few rows to verify the changes\n",
    "df_selected.head()"
   ]
  },
  {
   "cell_type": "code",
   "execution_count": 36,
   "metadata": {},
   "outputs": [
    {
     "data": {
      "image/png": "[encoded data removed]",
      "text/plain": [
       "<Figure size 1000x800 with 2 Axes>"
      ]
     },
     "metadata": {},
     "output_type": "display_data"
    }
   ],
   "source": [
    "# Calculate the correlation matrix\n",
    "corr_matrix = df_selected.corr()\n",
    "\n",
    "# Create a heatmap to visualize the correlation matrix\n",
    "plt.figure(figsize=(10, 8))\n",
    "sns.heatmap(corr_matrix, annot=True, cmap='coolwarm', fmt='.2f', linewidths=0.5)\n",
    "plt.title('Correlation Matrix Heatmap')\n",
    "plt.show()"
   ]
  },
  {
   "cell_type": "markdown",
   "metadata": {},
   "source": [
    "7. Analyze Categorical Variables"
   ]
  },
  {
   "cell_type": "code",
   "execution_count": 37,
   "metadata": {},
   "outputs": [
    {
     "name": "stdout",
     "output_type": "stream",
     "text": [
      "Frequency Distribution of CUSTOMER_SEGMENT:\n",
      " CUSTOMER_SEGMENT\n",
      "0    618\n",
      "1    533\n",
      "2    424\n",
      "Name: count, dtype: int64\n"
     ]
    },
    {
     "data": {
      "image/png": "[encoded data removed]",
      "text/plain": [
       "<Figure size 1000x600 with 1 Axes>"
      ]
     },
     "metadata": {},
     "output_type": "display_data"
    },
    {
     "name": "stdout",
     "output_type": "stream",
     "text": [
      "Cross-tabulation between CLUSTER and NUM_ORDERS:\n",
      " NUM_ORDERS          1    2   3   4  5  6\n",
      "CUSTOMER_SEGMENT                        \n",
      "0                 347  185  63  16  5  2\n",
      "1                 340  136  46   8  3  0\n",
      "2                 306   96  17   5  0  0\n"
     ]
    }
   ],
   "source": [
    "# Frequency Distribution\n",
    "cluster_counts = df_raw_data['CUSTOMER_SEGMENT'].value_counts()\n",
    "print(\"Frequency Distribution of CUSTOMER_SEGMENT:\\n\", cluster_counts)\n",
    "\n",
    "# Bar Plots\n",
    "plt.figure(figsize=(10, 6))\n",
    "sns.countplot(x='CUSTOMER_SEGMENT', data=df_raw_data)\n",
    "plt.title('Count of Each Cluster')\n",
    "plt.xlabel('Cluster')\n",
    "plt.ylabel('Count')\n",
    "plt.show()\n",
    "\n",
    "# Cross-tabulation\n",
    "cross_tab = pd.crosstab(df_raw_data['CUSTOMER_SEGMENT'], df_raw_data['NUM_ORDERS'])\n",
    "print(\"Cross-tabulation between CLUSTER and NUM_ORDERS:\\n\", cross_tab)"
   ]
  },
  {
   "cell_type": "code",
   "execution_count": 38,
   "metadata": {},
   "outputs": [
    {
     "data": {
      "text/html": [
       "<div>\n",
       "<style scoped>\n",
       "    .dataframe tbody tr th:only-of-type {\n",
       "        vertical-align: middle;\n",
       "    }\n",
       "\n",
       "    .dataframe tbody tr th {\n",
       "        vertical-align: top;\n",
       "    }\n",
       "\n",
       "    .dataframe thead th {\n",
       "        text-align: right;\n",
       "    }\n",
       "</style>\n",
       "<table border=\"1\" class=\"dataframe\">\n",
       "  <thead>\n",
       "    <tr style=\"text-align: right;\">\n",
       "      <th></th>\n",
       "      <th>DATE_ORDINAL</th>\n",
       "      <th>UNITS_SOLD</th>\n",
       "      <th>CUSTOMER_SEGMENT</th>\n",
       "      <th>AVG_DISCOUNT_RATE</th>\n",
       "    </tr>\n",
       "  </thead>\n",
       "  <tbody>\n",
       "    <tr>\n",
       "      <th>0</th>\n",
       "      <td>737791</td>\n",
       "      <td>30</td>\n",
       "      <td>2</td>\n",
       "      <td>0.08</td>\n",
       "    </tr>\n",
       "    <tr>\n",
       "      <th>1</th>\n",
       "      <td>737791</td>\n",
       "      <td>150</td>\n",
       "      <td>0</td>\n",
       "      <td>0.04</td>\n",
       "    </tr>\n",
       "    <tr>\n",
       "      <th>2</th>\n",
       "      <td>737792</td>\n",
       "      <td>35</td>\n",
       "      <td>0</td>\n",
       "      <td>0.01</td>\n",
       "    </tr>\n",
       "    <tr>\n",
       "      <th>3</th>\n",
       "      <td>737792</td>\n",
       "      <td>105</td>\n",
       "      <td>1</td>\n",
       "      <td>0.05</td>\n",
       "    </tr>\n",
       "    <tr>\n",
       "      <th>4</th>\n",
       "      <td>737793</td>\n",
       "      <td>18</td>\n",
       "      <td>1</td>\n",
       "      <td>0.00</td>\n",
       "    </tr>\n",
       "  </tbody>\n",
       "</table>\n",
       "</div>"
      ],
      "text/plain": [
       "   DATE_ORDINAL  UNITS_SOLD CUSTOMER_SEGMENT  AVG_DISCOUNT_RATE\n",
       "0        737791          30                2               0.08\n",
       "1        737791         150                0               0.04\n",
       "2        737792          35                0               0.01\n",
       "3        737792         105                1               0.05\n",
       "4        737793          18                1               0.00"
      ]
     },
     "execution_count": 38,
     "metadata": {},
     "output_type": "execute_result"
    }
   ],
   "source": [
    "# Select the required columns for independent variables and target variable\n",
    "df_model = df_raw_data[['DATE_ORDINAL', 'UNITS_SOLD', 'CUSTOMER_SEGMENT', 'AVG_DISCOUNT_RATE']]\n",
    "\n",
    "# Display the first few rows to verify the changes\n",
    "df_model.head()"
   ]
  },
  {
   "cell_type": "code",
   "execution_count": 39,
   "metadata": {},
   "outputs": [],
   "source": [
    "# %pip install scikit-learn"
   ]
  },
  {
   "cell_type": "code",
   "execution_count": 40,
   "metadata": {},
   "outputs": [
    {
     "name": "stderr",
     "output_type": "stream",
     "text": [
      "C:\\Users\\panha.vuthy\\AppData\\Local\\Temp\\ipykernel_23084\\2429274606.py:1: SettingWithCopyWarning: \n",
      "A value is trying to be set on a copy of a slice from a DataFrame.\n",
      "Try using .loc[row_indexer,col_indexer] = value instead\n",
      "\n",
      "See the caveats in the documentation: https://pandas.pydata.org/pandas-docs/stable/user_guide/indexing.html#returning-a-view-versus-a-copy\n",
      "  df_model['CUSTOMER_SEGMENT'] = df_model['CUSTOMER_SEGMENT'].astype('int')\n"
     ]
    }
   ],
   "source": [
    "df_model['CUSTOMER_SEGMENT'] = df_model['CUSTOMER_SEGMENT'].astype('int')"
   ]
  },
  {
   "cell_type": "code",
   "execution_count": 41,
   "metadata": {},
   "outputs": [
    {
     "name": "stdout",
     "output_type": "stream",
     "text": [
      "Training set size: 1260\n",
      "Testing set size: 315\n"
     ]
    }
   ],
   "source": [
    "from sklearn.model_selection import train_test_split\n",
    "\n",
    "# Split the dataset into 80% training and 20% testing\n",
    "train_set, test_set = train_test_split(df_model, test_size=0.2, random_state=42)\n",
    "\n",
    "# Display the size of the training and testing sets\n",
    "print(f\"Training set size: {len(train_set)}\")\n",
    "print(f\"Testing set size: {len(test_set)}\")"
   ]
  },
  {
   "cell_type": "code",
   "execution_count": 39,
   "metadata": {},
   "outputs": [],
   "source": [
    "# %pip install xgboost"
   ]
  },
  {
   "cell_type": "markdown",
   "metadata": {},
   "source": [
    "# 4. Model chosen and Modeling"
   ]
  },
  {
   "cell_type": "markdown",
   "metadata": {},
   "source": [
    "## Create a Stage"
   ]
  },
  {
   "cell_type": "code",
   "execution_count": 40,
   "metadata": {},
   "outputs": [],
   "source": [
    "# %pip install snowflake-snowpark-python"
   ]
  },
  {
   "cell_type": "code",
   "execution_count": 42,
   "metadata": {},
   "outputs": [],
   "source": [
    "# Function to create the table if it doesn't exist\n",
    "def create_table_if_not_exists(table_name):\n",
    "    create_table_query = f\"\"\"\n",
    "    CREATE TABLE IF NOT EXISTS {table_name} (\n",
    "        DATE_ORDINAL INT,\n",
    "        UNITS_SOLD INT,\n",
    "        CUSTOMER_SEGMENT INT,\n",
    "        AVG_DISCOUNT_RATE FLOAT,\n",
    "        PRODUCT_SKU STRING\n",
    "    );\n",
    "    \"\"\"\n",
    "    session.sql(create_table_query).collect()  # Execute the query"
   ]
  },
  {
   "cell_type": "code",
   "execution_count": 43,
   "metadata": {},
   "outputs": [],
   "source": [
    "# Function to insert the pandas dataframe into Snowflake table using Snowpark\n",
    "def insert_pandas_dataframe_to_snowflake(session, pandas_df, table_name, schema):\n",
    "    # Convert pandas DataFrame to Snowpark DataFrame\n",
    "    snowpark_df = session.create_dataframe(pandas_df, schema=schema)\n",
    "\n",
    "    # Write the Snowpark DataFrame into Snowflake table\n",
    "    session.sql(f\"DELETE FROM {table_name} WHERE PRODUCT_SKU = '{product_sku}'\").collect()\n",
    "    snowpark_df.write.mode(\"append\").save_as_table(f\"{table_name}\")\n",
    "    return snowpark_df"
   ]
  },
  {
   "cell_type": "code",
   "execution_count": 44,
   "metadata": {},
   "outputs": [
    {
     "name": "stderr",
     "output_type": "stream",
     "text": [
      "C:\\Users\\panha.vuthy\\AppData\\Local\\Temp\\ipykernel_23084\\2422108455.py:1: SettingWithCopyWarning: \n",
      "A value is trying to be set on a copy of a slice from a DataFrame.\n",
      "Try using .loc[row_indexer,col_indexer] = value instead\n",
      "\n",
      "See the caveats in the documentation: https://pandas.pydata.org/pandas-docs/stable/user_guide/indexing.html#returning-a-view-versus-a-copy\n",
      "  df_model['PRODUCT_SKU'] = product_sku\n"
     ]
    }
   ],
   "source": [
    "df_model['PRODUCT_SKU'] = product_sku"
   ]
  },
  {
   "cell_type": "code",
   "execution_count": 46,
   "metadata": {},
   "outputs": [
    {
     "data": {
      "text/html": [
       "<div>\n",
       "<style scoped>\n",
       "    .dataframe tbody tr th:only-of-type {\n",
       "        vertical-align: middle;\n",
       "    }\n",
       "\n",
       "    .dataframe tbody tr th {\n",
       "        vertical-align: top;\n",
       "    }\n",
       "\n",
       "    .dataframe thead th {\n",
       "        text-align: right;\n",
       "    }\n",
       "</style>\n",
       "<table border=\"1\" class=\"dataframe\">\n",
       "  <thead>\n",
       "    <tr style=\"text-align: right;\">\n",
       "      <th></th>\n",
       "      <th>DATE_ORDINAL</th>\n",
       "      <th>UNITS_SOLD</th>\n",
       "      <th>CUSTOMER_SEGMENT</th>\n",
       "      <th>AVG_DISCOUNT_RATE</th>\n",
       "      <th>PRODUCT_SKU</th>\n",
       "    </tr>\n",
       "  </thead>\n",
       "  <tbody>\n",
       "    <tr>\n",
       "      <th>0</th>\n",
       "      <td>737791</td>\n",
       "      <td>150</td>\n",
       "      <td>0</td>\n",
       "      <td>0.04</td>\n",
       "      <td>B33_S3</td>\n",
       "    </tr>\n",
       "    <tr>\n",
       "      <th>1</th>\n",
       "      <td>737791</td>\n",
       "      <td>30</td>\n",
       "      <td>2</td>\n",
       "      <td>0.08</td>\n",
       "      <td>B33_S3</td>\n",
       "    </tr>\n",
       "    <tr>\n",
       "      <th>2</th>\n",
       "      <td>737792</td>\n",
       "      <td>35</td>\n",
       "      <td>0</td>\n",
       "      <td>0.01</td>\n",
       "      <td>B33_S3</td>\n",
       "    </tr>\n",
       "    <tr>\n",
       "      <th>3</th>\n",
       "      <td>737792</td>\n",
       "      <td>105</td>\n",
       "      <td>1</td>\n",
       "      <td>0.05</td>\n",
       "      <td>B33_S3</td>\n",
       "    </tr>\n",
       "    <tr>\n",
       "      <th>4</th>\n",
       "      <td>737793</td>\n",
       "      <td>18</td>\n",
       "      <td>1</td>\n",
       "      <td>0.00</td>\n",
       "      <td>B33_S3</td>\n",
       "    </tr>\n",
       "    <tr>\n",
       "      <th>...</th>\n",
       "      <td>...</td>\n",
       "      <td>...</td>\n",
       "      <td>...</td>\n",
       "      <td>...</td>\n",
       "      <td>...</td>\n",
       "    </tr>\n",
       "    <tr>\n",
       "      <th>1570</th>\n",
       "      <td>738733</td>\n",
       "      <td>57</td>\n",
       "      <td>1</td>\n",
       "      <td>0.04</td>\n",
       "      <td>B33_S3</td>\n",
       "    </tr>\n",
       "    <tr>\n",
       "      <th>1571</th>\n",
       "      <td>738733</td>\n",
       "      <td>69</td>\n",
       "      <td>0</td>\n",
       "      <td>0.05</td>\n",
       "      <td>B33_S3</td>\n",
       "    </tr>\n",
       "    <tr>\n",
       "      <th>1572</th>\n",
       "      <td>738734</td>\n",
       "      <td>3</td>\n",
       "      <td>0</td>\n",
       "      <td>0.05</td>\n",
       "      <td>B33_S3</td>\n",
       "    </tr>\n",
       "    <tr>\n",
       "      <th>1573</th>\n",
       "      <td>738734</td>\n",
       "      <td>32</td>\n",
       "      <td>2</td>\n",
       "      <td>0.07</td>\n",
       "      <td>B33_S3</td>\n",
       "    </tr>\n",
       "    <tr>\n",
       "      <th>1574</th>\n",
       "      <td>738734</td>\n",
       "      <td>78</td>\n",
       "      <td>1</td>\n",
       "      <td>0.05</td>\n",
       "      <td>B33_S3</td>\n",
       "    </tr>\n",
       "  </tbody>\n",
       "</table>\n",
       "<p>1575 rows × 5 columns</p>\n",
       "</div>"
      ],
      "text/plain": [
       "      DATE_ORDINAL  UNITS_SOLD  CUSTOMER_SEGMENT  AVG_DISCOUNT_RATE  \\\n",
       "0           737791         150                 0               0.04   \n",
       "1           737791          30                 2               0.08   \n",
       "2           737792          35                 0               0.01   \n",
       "3           737792         105                 1               0.05   \n",
       "4           737793          18                 1               0.00   \n",
       "...            ...         ...               ...                ...   \n",
       "1570        738733          57                 1               0.04   \n",
       "1571        738733          69                 0               0.05   \n",
       "1572        738734           3                 0               0.05   \n",
       "1573        738734          32                 2               0.07   \n",
       "1574        738734          78                 1               0.05   \n",
       "\n",
       "     PRODUCT_SKU  \n",
       "0         B33_S3  \n",
       "1         B33_S3  \n",
       "2         B33_S3  \n",
       "3         B33_S3  \n",
       "4         B33_S3  \n",
       "...          ...  \n",
       "1570      B33_S3  \n",
       "1571      B33_S3  \n",
       "1572      B33_S3  \n",
       "1573      B33_S3  \n",
       "1574      B33_S3  \n",
       "\n",
       "[1575 rows x 5 columns]"
      ]
     },
     "execution_count": 46,
     "metadata": {},
     "output_type": "execute_result"
    }
   ],
   "source": [
    "df_model"
   ]
  },
  {
   "cell_type": "code",
   "execution_count": 45,
   "metadata": {},
   "outputs": [],
   "source": [
    "from snowflake.snowpark.types import StructType, StructField, IntegerType, FloatType, StringType\n",
    "\n",
    "training_table = \"FACT_DYNAMIC_PRICING_CLEANED\"\n",
    "# schema structure for pandas DataFrame convert to Snowpark DataFrame\n",
    "schema = StructType([\n",
    "        StructField(\"DATE_ORDINAL\", IntegerType()),\n",
    "        StructField(\"UNITS_SOLD\", IntegerType()),\n",
    "        StructField(\"CUSTOMER_SEGMENT\", IntegerType()),\n",
    "        StructField(\"AVG_DISCOUNT_RATE\", FloatType()),\n",
    "        StructField(\"PRODUCT_SKU\", StringType())\n",
    "    ])\n",
    "\n",
    "create_table_if_not_exists(training_table)\n",
    "snowpark_df = insert_pandas_dataframe_to_snowflake(session, df_model, training_table, schema)\n",
    "# Convert pandas DataFrame to Snowpark DataFrame"
   ]
  },
  {
   "cell_type": "code",
   "execution_count": 46,
   "metadata": {},
   "outputs": [
    {
     "name": "stdout",
     "output_type": "stream",
     "text": [
      "--------------------------------------------------------------------------------------------\n",
      "|\"DATE_ORDINAL\"  |\"UNITS_SOLD\"  |\"CUSTOMER_SEGMENT\"  |\"AVG_DISCOUNT_RATE\"  |\"PRODUCT_SKU\"  |\n",
      "--------------------------------------------------------------------------------------------\n",
      "|737791          |30            |2                   |0.08                 |B33_S3         |\n",
      "|737791          |150           |0                   |0.04                 |B33_S3         |\n",
      "|737792          |35            |0                   |0.01                 |B33_S3         |\n",
      "|737792          |105           |1                   |0.05                 |B33_S3         |\n",
      "|737793          |18            |1                   |0.0                  |B33_S3         |\n",
      "|737793          |7             |2                   |0.05                 |B33_S3         |\n",
      "|737794          |19            |1                   |0.05                 |B33_S3         |\n",
      "|737794          |17            |0                   |0.0                  |B33_S3         |\n",
      "|737796          |55            |0                   |0.02                 |B33_S3         |\n",
      "|737797          |49            |0                   |0.04333333           |B33_S3         |\n",
      "--------------------------------------------------------------------------------------------\n",
      "\n"
     ]
    }
   ],
   "source": [
    "snowpark_df.show()"
   ]
  },
  {
   "cell_type": "code",
   "execution_count": 49,
   "metadata": {},
   "outputs": [],
   "source": [
    "# session.sql(\"DROP TABLE IF EXISTS FACT_DYNAMIC_PRICING_CLEANED\").collect()"
   ]
  },
  {
   "cell_type": "code",
   "execution_count": 47,
   "metadata": {},
   "outputs": [
    {
     "data": {
      "text/plain": [
       "[Row(status='DYNAMIC_PRICING_MODEL_STAGE already exists, statement succeeded.')]"
      ]
     },
     "execution_count": 47,
     "metadata": {},
     "output_type": "execute_result"
    }
   ],
   "source": [
    "# Create a Stage\n",
    "stage_name = \"DYNAMIC_PRICING_MODEL_STAGE\"\n",
    "session.sql(f\"CREATE STAGE IF NOT EXISTS {stage_name}\").collect()"
   ]
  },
  {
   "cell_type": "code",
   "execution_count": 48,
   "metadata": {},
   "outputs": [],
   "source": []
  },
  {
   "cell_type": "markdown",
   "metadata": {},
   "source": [
    "**Step 1. create a function for training a Model**"
   ]
  },
  {
   "cell_type": "code",
   "execution_count": 49,
   "metadata": {},
   "outputs": [],
   "source": [
    "#from sklearn.model_selection import train_test_split\n",
    "\n",
    "def train_xgb_model(\n",
    "    session: Session,\n",
    "    training_table: str,\n",
    "    feature_cols: list,\n",
    "    target_col: str,\n",
    "    model_name: str,\n",
    "    stage_name: str\n",
    ") ->T.Variant:\n",
    "    # Import the package\n",
    "    from sklearn.model_selection import GridSearchCV\n",
    "    from xgboost import XGBRegressor\n",
    "\n",
    "    # Get training data \n",
    "    df_cleaned = session.table(training_table).to_pandas()\n",
    "\n",
    "    train_set, test_set = train_test_split(df_cleaned, test_size=0.2, random_state=42)\n",
    "    \n",
    "    X_train = train_set[feature_cols]\n",
    "    y_train = train_set[target_col]\n",
    "    X_test = test_set[feature_cols]\n",
    "    y_test = test_set[target_col]\n",
    "\n",
    "    param_grid = {\n",
    "        'n_estimators': [100, 200],\n",
    "        'max_depth': [5, 7],\n",
    "        'learning_rate': [0.2, 0.3],\n",
    "        'subsample': [0.8, 1.0],\n",
    "        'colsample_bytree': [0.8, 1.0]\n",
    "    }\n",
    "    # Initialize the XGBRegressor\n",
    "    xgb = XGBRegressor()\n",
    "    # Initialize GridSearchCV\n",
    "    grid_search = GridSearchCV(estimator=xgb, param_grid=param_grid, cv=3, scoring='neg_mean_squared_error', verbose=1, n_jobs=-1)\n",
    "    grid_search.fit(X_train, y_train)\n",
    "\n",
    "    best_params = grid_search.best_params_\n",
    "    best_xgb = XGBRegressor(**best_params)\n",
    "    best_xgb.fit(X_train, y_train)\n",
    "    y_pred = best_xgb.predict(X_test)\n",
    "\n",
    "    mse = np.mean((y_pred - y_test) ** 2)\n",
    "\n",
    "    print(\"Mean Squared Error: \", mse)\n",
    "    # Save model\n",
    "    dump(best_xgb, \"/tmp/\"+ model_name)\n",
    "    session.file.put(\n",
    "        \"/tmp/\"+ model_name,\n",
    "        f\"@{stage_name}/\",\n",
    "        auto_compress=False,\n",
    "        overwrite=True\n",
    "    )\n",
    "    \n",
    "    # combine mse and best_params into a dictionary\n",
    "    result = {\"mse\": mse, \"best_params\": best_params}\n",
    "    return result\n",
    "    "
   ]
  },
  {
   "cell_type": "markdown",
   "metadata": {},
   "source": [
    "**Step 2: Register the Function on Snowflake**"
   ]
  },
  {
   "cell_type": "code",
   "execution_count": 50,
   "metadata": {},
   "outputs": [
    {
     "name": "stderr",
     "output_type": "stream",
     "text": [
      "Got error object of type 'NoneType' has no len() when trying to read default values from function: <function train_xgb_model at 0x00000127DBC6C0E0>. Proceeding without creating optional arguments\n",
      "The version of package 'scikit-learn' in the local environment is 1.5.2, which does not fit the criteria for the requirement 'scikit-learn'. Your UDF might not work when the package version is different between the server and your local environment.\n"
     ]
    }
   ],
   "source": [
    "# train_xgb_snowflake become a stored procedure in Snowflake that can be called\n",
    "train_xgb_snowflake = session.sproc.register(\n",
    "    func=train_xgb_model,\n",
    "    name=\"sproc_train_xgb_model\", #spoc = stored procedure or function in snowflake\n",
    "    is_permanent=True,\n",
    "    replace=True,\n",
    "    stage_location=stage_name,\n",
    "    packages=[\"snowflake-snowpark-python\", \"scikit-learn\", \"xgboost\", \"joblib\"],\n",
    ")"
   ]
  },
  {
   "cell_type": "markdown",
   "metadata": {},
   "source": [
    "## Model Training\n",
    "\n",
    "Call the Training Stored Procedure"
   ]
  },
  {
   "cell_type": "code",
   "execution_count": 51,
   "metadata": {},
   "outputs": [
    {
     "data": {
      "text/plain": [
       "'{\\n  \"best_params\": {\\n    \"colsample_bytree\": 8.000000000000000e-01,\\n    \"learning_rate\": 2.000000000000000e-01,\\n    \"max_depth\": 5,\\n    \"n_estimators\": 100,\\n    \"subsample\": 1.000000000000000e+00\\n  },\\n  \"mse\": 8.988935321682771e-04\\n}'"
      ]
     },
     "execution_count": 51,
     "metadata": {},
     "output_type": "execute_result"
    }
   ],
   "source": [
    "training_table = \"FACT_DYNAMIC_PRICING_CLEANED\"\n",
    "model_file_name = \"B33_S3_xgb_model.sav\"\n",
    "feature_cols = [\n",
    "    'DATE_ORDINAL',\n",
    "    'UNITS_SOLD',\n",
    "    'CUSTOMER_SEGMENT'\n",
    "]\n",
    "target_col = 'AVG_DISCOUNT_RATE'\n",
    "\n",
    "# Call the training store procedure by feeding the required parameters\n",
    "result = train_xgb_snowflake(\n",
    "    session,\n",
    "    training_table,\n",
    "    feature_cols, \n",
    "    target_col, \n",
    "    model_file_name,\n",
    "    stage_name # where model file will be stored\n",
    ")\n",
    "result"
   ]
  },
  {
   "cell_type": "code",
   "execution_count": 67,
   "metadata": {},
   "outputs": [
    {
     "data": {
      "text/plain": [
       "'{\\n  \"best_params\": {\\n    \"colsample_bytree\": 8.000000000000000e-01,\\n    \"learning_rate\": 2.000000000000000e-01,\\n    \"max_depth\": 5,\\n    \"n_estimators\": 100,\\n    \"subsample\": 1.000000000000000e+00\\n  },\\n  \"mse\": 8.988935321682771e-04\\n}'"
      ]
     },
     "execution_count": 67,
     "metadata": {},
     "output_type": "execute_result"
    }
   ],
   "source": [
    "result"
   ]
  },
  {
   "cell_type": "markdown",
   "metadata": {},
   "source": [
    "**View the Saved Model**"
   ]
  },
  {
   "cell_type": "code",
   "execution_count": 52,
   "metadata": {},
   "outputs": [
    {
     "data": {
      "text/html": [
       "<div>\n",
       "<style scoped>\n",
       "    .dataframe tbody tr th:only-of-type {\n",
       "        vertical-align: middle;\n",
       "    }\n",
       "\n",
       "    .dataframe tbody tr th {\n",
       "        vertical-align: top;\n",
       "    }\n",
       "\n",
       "    .dataframe thead th {\n",
       "        text-align: right;\n",
       "    }\n",
       "</style>\n",
       "<table border=\"1\" class=\"dataframe\">\n",
       "  <thead>\n",
       "    <tr style=\"text-align: right;\">\n",
       "      <th></th>\n",
       "      <th>name</th>\n",
       "      <th>size</th>\n",
       "      <th>md5</th>\n",
       "      <th>last_modified</th>\n",
       "    </tr>\n",
       "  </thead>\n",
       "  <tbody>\n",
       "    <tr>\n",
       "      <th>0</th>\n",
       "      <td>dynamic_pricing_model_stage/B33_S3_xgb_model.sav</td>\n",
       "      <td>223952</td>\n",
       "      <td>116b7c056bf6e981ce2e02b29667b721</td>\n",
       "      <td>Wed, 9 Oct 2024 03:07:45 GMT</td>\n",
       "    </tr>\n",
       "    <tr>\n",
       "      <th>1</th>\n",
       "      <td>dynamic_pricing_model_stage/udf_avg_discount_r...</td>\n",
       "      <td>6304</td>\n",
       "      <td>39ba2fd3cbf388d108cdc6356e1a6406</td>\n",
       "      <td>Tue, 8 Oct 2024 08:14:20 GMT</td>\n",
       "    </tr>\n",
       "    <tr>\n",
       "      <th>2</th>\n",
       "      <td>dynamic_pricing_model_stage/udf_avg_discount_r...</td>\n",
       "      <td>5856</td>\n",
       "      <td>0d69a03fa38ac263a83d4fdf6d3cab10</td>\n",
       "      <td>Tue, 8 Oct 2024 08:05:07 GMT</td>\n",
       "    </tr>\n",
       "    <tr>\n",
       "      <th>3</th>\n",
       "      <td>dynamic_pricing_model_stage/udf_avg_discount_r...</td>\n",
       "      <td>5856</td>\n",
       "      <td>c9934c4263a1dbad1fb0ad17d612aeab</td>\n",
       "      <td>Tue, 8 Oct 2024 06:22:35 GMT</td>\n",
       "    </tr>\n",
       "    <tr>\n",
       "      <th>4</th>\n",
       "      <td>dynamic_pricing_model_stage/udf_avg_discount_r...</td>\n",
       "      <td>5856</td>\n",
       "      <td>bb6d2469694657071cc98fd8bb6b8d0b</td>\n",
       "      <td>Tue, 8 Oct 2024 06:37:36 GMT</td>\n",
       "    </tr>\n",
       "  </tbody>\n",
       "</table>\n",
       "</div>"
      ],
      "text/plain": [
       "                                                name    size  \\\n",
       "0   dynamic_pricing_model_stage/B33_S3_xgb_model.sav  223952   \n",
       "1  dynamic_pricing_model_stage/udf_avg_discount_r...    6304   \n",
       "2  dynamic_pricing_model_stage/udf_avg_discount_r...    5856   \n",
       "3  dynamic_pricing_model_stage/udf_avg_discount_r...    5856   \n",
       "4  dynamic_pricing_model_stage/udf_avg_discount_r...    5856   \n",
       "\n",
       "                                md5                 last_modified  \n",
       "0  116b7c056bf6e981ce2e02b29667b721  Wed, 9 Oct 2024 03:07:45 GMT  \n",
       "1  39ba2fd3cbf388d108cdc6356e1a6406  Tue, 8 Oct 2024 08:14:20 GMT  \n",
       "2  0d69a03fa38ac263a83d4fdf6d3cab10  Tue, 8 Oct 2024 08:05:07 GMT  \n",
       "3  c9934c4263a1dbad1fb0ad17d612aeab  Tue, 8 Oct 2024 06:22:35 GMT  \n",
       "4  bb6d2469694657071cc98fd8bb6b8d0b  Tue, 8 Oct 2024 06:37:36 GMT  "
      ]
     },
     "execution_count": 52,
     "metadata": {},
     "output_type": "execute_result"
    }
   ],
   "source": [
    "pd.DataFrame(session.sql(f\"LIST @{stage_name}\").collect())"
   ]
  },
  {
   "cell_type": "markdown",
   "metadata": {},
   "source": [
    "# Model Deployment\n",
    "\n",
    "**Create a User-Defined Function for Model Inference**"
   ]
  },
  {
   "cell_type": "markdown",
   "metadata": {},
   "source": [
    "Step 1. Create a Function for Model Inference"
   ]
  },
  {
   "cell_type": "code",
   "execution_count": 56,
   "metadata": {},
   "outputs": [],
   "source": [
    "# %pip install cachetools"
   ]
  },
  {
   "cell_type": "code",
   "execution_count": 54,
   "metadata": {},
   "outputs": [],
   "source": [
    "import cachetools"
   ]
  },
  {
   "cell_type": "code",
   "execution_count": 55,
   "metadata": {},
   "outputs": [],
   "source": [
    "@cachetools.cached(cache={})\n",
    "def load_model(filename):\n",
    "\n",
    "    # Import packages\n",
    "    import sys\n",
    "    import os\n",
    "    import joblib\n",
    "\n",
    "    # Get the import directory where the model file is stored\n",
    "    import_dir = sys._xoptions.get(\"snowflake_import_directory\")\n",
    "\n",
    "    # Get the import directory where the model file is stored\n",
    "    if import_dir:\n",
    "        with open(os.path.join(import_dir, filename), \"rb\") as f:\n",
    "            model = joblib.load(f)\n",
    "            return model"
   ]
  },
  {
   "cell_type": "code",
   "execution_count": 56,
   "metadata": {},
   "outputs": [],
   "source": [
    "# Function to predict the average discount rate\n",
    "def avg_discount_rate_prediction(date_ordinal: int, units_sold: int, customer_segment: int, model_name: str) -> float:\n",
    "    import pandas as pd\n",
    "    # Create a DataFrame from the input values (this assumes feature_cols)\n",
    "    feature_cols = ['DATE_ORDINAL', 'UNITS_SOLD', 'CUSTOMER_SEGMENT']\n",
    "    X = pd.DataFrame([[date_ordinal, units_sold, customer_segment]], columns=feature_cols)\n",
    "\n",
    "    # Load the model using the model name\n",
    "    model = load_model(model_name)\n",
    "\n",
    "    # Get predictions\n",
    "    predictions = model.predict(X)\n",
    "\n",
    "    # Return the predicted value (assuming a regression model returning a single value)\n",
    "    return predictions[0]\n"
   ]
  },
  {
   "cell_type": "markdown",
   "metadata": {},
   "source": [
    "Step 2: Register the Function on Snowflake"
   ]
  },
  {
   "cell_type": "code",
   "execution_count": 57,
   "metadata": {},
   "outputs": [
    {
     "data": {
      "text/plain": [
       "'DYNAMIC_PRICING_MODEL_STAGE'"
      ]
     },
     "execution_count": 57,
     "metadata": {},
     "output_type": "execute_result"
    }
   ],
   "source": [
    "stage_name"
   ]
  },
  {
   "cell_type": "code",
   "execution_count": 58,
   "metadata": {},
   "outputs": [
    {
     "name": "stderr",
     "output_type": "stream",
     "text": [
      "Got error object of type 'NoneType' has no len() when trying to read default values from function: <function avg_discount_rate_prediction at 0x00000127D872A700>. Proceeding without creating optional arguments\n",
      "The version of package 'cachetools' in the local environment is 5.5.0, which does not fit the criteria for the requirement 'cachetools'. Your UDF might not work when the package version is different between the server and your local environment.\n",
      "The version of package 'pandas' in the local environment is 2.2.3, which does not fit the criteria for the requirement 'pandas'. Your UDF might not work when the package version is different between the server and your local environment.\n"
     ]
    },
    {
     "data": {
      "text/plain": [
       "<snowflake.snowpark.udf.UserDefinedFunction at 0x127f631d5d0>"
      ]
     },
     "execution_count": 58,
     "metadata": {},
     "output_type": "execute_result"
    }
   ],
   "source": [
    "# feature_cols = [\n",
    "#     'DATE_ORDINAL',\n",
    "#     'UNITS_SOLD',\n",
    "#     'CUSTOMER_SEGMENT'\n",
    "# ]\n",
    "# model_files = ['B33_S3_xgb_model.sav', 'another_model.sav', 'some_other_model.sav']\n",
    "session.udf.register(\n",
    "    func=avg_discount_rate_prediction,\n",
    "    name=\"udf_avg_discount_rate_prediction\",\n",
    "    stage_location=stage_name,\n",
    "    input_type=[T.IntegerType(), T.IntegerType(), T.IntegerType(), T.StringType()],  # Three integers and one string\n",
    "    return_type=T.FloatType(),  # The return type is a float\n",
    "    replace=True,\n",
    "    is_permanent=True,\n",
    "    imports=[f\"@{stage_name}/{model_file_name}\"],  # Model file is imported,\n",
    "    # imports=[f\"@{stage_name}/{model}\" for model in model_files], # multiple model files are imported, \n",
    "    packages=[\"joblib\", \"cachetools\", \"xgboost\",\"pandas\"],  # Required packages for the UDF\n",
    ")"
   ]
  },
  {
   "cell_type": "markdown",
   "metadata": {},
   "source": [
    "# Predict!"
   ]
  },
  {
   "cell_type": "markdown",
   "metadata": {},
   "source": [
    "Call the inference Function"
   ]
  },
  {
   "cell_type": "code",
   "execution_count": 59,
   "metadata": {},
   "outputs": [],
   "source": [
    "import snowflake.snowpark.functions as F"
   ]
  },
  {
   "cell_type": "code",
   "execution_count": 60,
   "metadata": {},
   "outputs": [],
   "source": [
    "# Call the UDF to predict the average discount rate\n",
    "\n",
    "\n",
    "result_test = session.sql(\"\"\"\n",
    "SELECT udf_avg_discount_rate_prediction(738409, 67, 0, 'B33_S3_xgb_model.sav') as PREDICTED_AVG_DISCOUNT_RATE\n",
    "\"\"\").collect()"
   ]
  },
  {
   "cell_type": "code",
   "execution_count": 61,
   "metadata": {},
   "outputs": [
    {
     "data": {
      "text/plain": [
       "Row(PREDICTED_AVG_DISCOUNT_RATE=0.06255234777927399)"
      ]
     },
     "execution_count": 61,
     "metadata": {},
     "output_type": "execute_result"
    }
   ],
   "source": [
    "result_test[0]"
   ]
  },
  {
   "cell_type": "code",
   "execution_count": 62,
   "metadata": {},
   "outputs": [],
   "source": [
    "sample_data = {\n",
    "    'UNITS_SOLD': [100, 100, 100],\n",
    "    'DATE_ORDINAL': [738409, 738409, 738409],\n",
    "    'CUSTOMER_SEGMENT': [0,1,2],\n",
    "}\n",
    "snowpark_df_sample = session.create_dataframe(pd.DataFrame(sample_data))"
   ]
  },
  {
   "cell_type": "code",
   "execution_count": 63,
   "metadata": {},
   "outputs": [
    {
     "name": "stdout",
     "output_type": "stream",
     "text": [
      "------------------------------------------------------\n",
      "|\"UNITS_SOLD\"  |\"DATE_ORDINAL\"  |\"CUSTOMER_SEGMENT\"  |\n",
      "------------------------------------------------------\n",
      "|100           |738409          |0                   |\n",
      "|100           |738409          |1                   |\n",
      "|100           |738409          |2                   |\n",
      "------------------------------------------------------\n",
      "\n"
     ]
    }
   ],
   "source": [
    "snowpark_df_sample.show()"
   ]
  },
  {
   "cell_type": "code",
   "execution_count": 64,
   "metadata": {},
   "outputs": [
    {
     "name": "stdout",
     "output_type": "stream",
     "text": [
      "Prediction for row 0: 0.048568304628133774\n",
      "Prediction for row 1: 0.05004599690437317\n",
      "Prediction for row 2: 0.05083762854337692\n"
     ]
    }
   ],
   "source": [
    "result_test = snowpark_df_sample.select(\n",
    "    \"UNITS_SOLD\",\n",
    "    \"DATE_ORDINAL\",\n",
    "    \"CUSTOMER_SEGMENT\",\n",
    "    F.call_udf(\"udf_avg_discount_rate_prediction\", \n",
    "            snowpark_df_sample['DATE_ORDINAL'],\n",
    "            snowpark_df_sample['UNITS_SOLD'], \n",
    "            snowpark_df_sample['CUSTOMER_SEGMENT'], \n",
    "            \"B33_S3_xgb_model.sav\").alias('PREDICTED_AVG_DISCOUNT_RATE')\n",
    ")\n",
    "results = result_test.collect()\n",
    "\n",
    "# Print the results\n",
    "for i, row in enumerate(results):\n",
    "    print(f\"Prediction for row {i}: {row['PREDICTED_AVG_DISCOUNT_RATE']}\")"
   ]
  },
  {
   "cell_type": "code",
   "execution_count": 65,
   "metadata": {},
   "outputs": [
    {
     "name": "stdout",
     "output_type": "stream",
     "text": [
      "--------------------------------------------------------------------------------------\n",
      "|\"UNITS_SOLD\"  |\"DATE_ORDINAL\"  |\"CUSTOMER_SEGMENT\"  |\"PREDICTED_AVG_DISCOUNT_RATE\"  |\n",
      "--------------------------------------------------------------------------------------\n",
      "|100           |738409          |0                   |0.048568304628133774           |\n",
      "|100           |738409          |1                   |0.05004599690437317            |\n",
      "|100           |738409          |2                   |0.05083762854337692            |\n",
      "--------------------------------------------------------------------------------------\n",
      "\n"
     ]
    }
   ],
   "source": [
    "result_test.show()"
   ]
  },
  {
   "cell_type": "code",
   "execution_count": 66,
   "metadata": {},
   "outputs": [
    {
     "data": {
      "text/html": [
       "<div>\n",
       "<style scoped>\n",
       "    .dataframe tbody tr th:only-of-type {\n",
       "        vertical-align: middle;\n",
       "    }\n",
       "\n",
       "    .dataframe tbody tr th {\n",
       "        vertical-align: top;\n",
       "    }\n",
       "\n",
       "    .dataframe thead th {\n",
       "        text-align: right;\n",
       "    }\n",
       "</style>\n",
       "<table border=\"1\" class=\"dataframe\">\n",
       "  <thead>\n",
       "    <tr style=\"text-align: right;\">\n",
       "      <th></th>\n",
       "      <th>name</th>\n",
       "      <th>size</th>\n",
       "      <th>md5</th>\n",
       "      <th>last_modified</th>\n",
       "    </tr>\n",
       "  </thead>\n",
       "  <tbody>\n",
       "    <tr>\n",
       "      <th>0</th>\n",
       "      <td>dynamic_pricing_model_stage/B33_S3_xgb_model.sav</td>\n",
       "      <td>223952</td>\n",
       "      <td>116b7c056bf6e981ce2e02b29667b721</td>\n",
       "      <td>Wed, 9 Oct 2024 03:07:45 GMT</td>\n",
       "    </tr>\n",
       "    <tr>\n",
       "      <th>1</th>\n",
       "      <td>dynamic_pricing_model_stage/udf_avg_discount_r...</td>\n",
       "      <td>6304</td>\n",
       "      <td>39ba2fd3cbf388d108cdc6356e1a6406</td>\n",
       "      <td>Tue, 8 Oct 2024 08:14:20 GMT</td>\n",
       "    </tr>\n",
       "    <tr>\n",
       "      <th>2</th>\n",
       "      <td>dynamic_pricing_model_stage/udf_avg_discount_r...</td>\n",
       "      <td>5856</td>\n",
       "      <td>0d69a03fa38ac263a83d4fdf6d3cab10</td>\n",
       "      <td>Tue, 8 Oct 2024 08:05:07 GMT</td>\n",
       "    </tr>\n",
       "    <tr>\n",
       "      <th>3</th>\n",
       "      <td>dynamic_pricing_model_stage/udf_avg_discount_r...</td>\n",
       "      <td>5856</td>\n",
       "      <td>c9934c4263a1dbad1fb0ad17d612aeab</td>\n",
       "      <td>Tue, 8 Oct 2024 06:22:35 GMT</td>\n",
       "    </tr>\n",
       "    <tr>\n",
       "      <th>4</th>\n",
       "      <td>dynamic_pricing_model_stage/udf_avg_discount_r...</td>\n",
       "      <td>6304</td>\n",
       "      <td>52e3ef06eb99e6228e9f94cb2e1b7a90</td>\n",
       "      <td>Wed, 9 Oct 2024 03:09:14 GMT</td>\n",
       "    </tr>\n",
       "    <tr>\n",
       "      <th>5</th>\n",
       "      <td>dynamic_pricing_model_stage/udf_avg_discount_r...</td>\n",
       "      <td>5856</td>\n",
       "      <td>bb6d2469694657071cc98fd8bb6b8d0b</td>\n",
       "      <td>Tue, 8 Oct 2024 06:37:36 GMT</td>\n",
       "    </tr>\n",
       "  </tbody>\n",
       "</table>\n",
       "</div>"
      ],
      "text/plain": [
       "                                                name    size  \\\n",
       "0   dynamic_pricing_model_stage/B33_S3_xgb_model.sav  223952   \n",
       "1  dynamic_pricing_model_stage/udf_avg_discount_r...    6304   \n",
       "2  dynamic_pricing_model_stage/udf_avg_discount_r...    5856   \n",
       "3  dynamic_pricing_model_stage/udf_avg_discount_r...    5856   \n",
       "4  dynamic_pricing_model_stage/udf_avg_discount_r...    6304   \n",
       "5  dynamic_pricing_model_stage/udf_avg_discount_r...    5856   \n",
       "\n",
       "                                md5                 last_modified  \n",
       "0  116b7c056bf6e981ce2e02b29667b721  Wed, 9 Oct 2024 03:07:45 GMT  \n",
       "1  39ba2fd3cbf388d108cdc6356e1a6406  Tue, 8 Oct 2024 08:14:20 GMT  \n",
       "2  0d69a03fa38ac263a83d4fdf6d3cab10  Tue, 8 Oct 2024 08:05:07 GMT  \n",
       "3  c9934c4263a1dbad1fb0ad17d612aeab  Tue, 8 Oct 2024 06:22:35 GMT  \n",
       "4  52e3ef06eb99e6228e9f94cb2e1b7a90  Wed, 9 Oct 2024 03:09:14 GMT  \n",
       "5  bb6d2469694657071cc98fd8bb6b8d0b  Tue, 8 Oct 2024 06:37:36 GMT  "
      ]
     },
     "execution_count": 66,
     "metadata": {},
     "output_type": "execute_result"
    }
   ],
   "source": [
    "pd.DataFrame(session.sql(f\"LIST @{stage_name}\").collect())"
   ]
  },
  {
   "cell_type": "code",
   "execution_count": 108,
   "metadata": {},
   "outputs": [
    {
     "data": {
      "text/plain": [
       "['B33_S3_xgb_model.sav']"
      ]
     },
     "execution_count": 108,
     "metadata": {},
     "output_type": "execute_result"
    }
   ],
   "source": [
    "# Get only files in the stage under the directory dynamic_pricing_model_stage and contain .sav in the file name\n",
    "files = session.sql(f\"LIST @{stage_name}\").collect()\n",
    "model_files = [file['name'] for file in files if file['name'].endswith('.sav')]\n",
    "\n",
    "#insert file name without prefix dynamic_pricing_model_stage/\n",
    "model_files = [file.replace(f\"{stage_name.lower()}/\", \"\") for file in model_files]\n",
    "model_files\n"
   ]
  },
  {
   "cell_type": "code",
   "execution_count": 72,
   "metadata": {},
   "outputs": [],
   "source": [
    "import json\n",
    "result\n",
    "parsed_result = json.loads(result)"
   ]
  },
  {
   "cell_type": "code",
   "execution_count": 74,
   "metadata": {},
   "outputs": [
    {
     "data": {
      "text/plain": [
       "{'colsample_bytree': 0.8,\n",
       " 'learning_rate': 0.2,\n",
       " 'max_depth': 5,\n",
       " 'n_estimators': 100,\n",
       " 'subsample': 1.0}"
      ]
     },
     "execution_count": 74,
     "metadata": {},
     "output_type": "execute_result"
    }
   ],
   "source": [
    "parsed_result['best_params']"
   ]
  },
  {
   "cell_type": "code",
   "execution_count": 78,
   "metadata": {},
   "outputs": [],
   "source": [
    "# Evaluation Metrics\n",
    "evaluation_metrics = {\n",
    "    \"mse\": parsed_result['mse']\n",
    "}\n",
    "\n",
    "hyperparameters = {\n",
    "    \"best_params\": parsed_result['best_params']\n",
    "}"
   ]
  },
  {
   "cell_type": "code",
   "execution_count": null,
   "metadata": {},
   "outputs": [],
   "source": [
    "# push trained product to snowflake\n",
    "# products_trained_selected(f\"\"\"\n",
    "#     INSERT INTO LU_PRD_PRODUCT_TRAINED (PRODUCT_SKU, MIN_VOLUMN_SOLD, MAX_VOLUMN_SOLD, DATE_CREATED, DATE_MODIFIED)\n",
    "#     VALUES ('{products_trained_selected}', {df_model['UNIT_SOLD'].min()}, {df_model['UNIT_SOLD'].max()}, CURRENT_TIMESTAMP(), CURRENT_TIMESTAMP())\n",
    "# \"\"\")"
   ]
  },
  {
   "cell_type": "code",
   "execution_count": 88,
   "metadata": {},
   "outputs": [
    {
     "data": {
      "text/plain": [
       "[Row(number of rows inserted=1)]"
      ]
     },
     "execution_count": 88,
     "metadata": {},
     "output_type": "execute_result"
    }
   ],
   "source": [
    "session.sql(f\"\"\"\n",
    "    INSERT INTO LU_PRD_PRODUCT_TRAINED (PRODUCT_SKU, MIN_VOLUMN_SOLD, MAX_VOLUMN_SOLD, DATE_CREATED, DATE_MODIFIED, MODEL_PATH, MODEL_NAME, EVALUATION, HYPER_PARAMS)\n",
    "    SELECT '{product_sku}', {df_model['UNITS_SOLD'].min()}, {df_model['UNITS_SOLD'].max()}, CURRENT_TIMESTAMP(), CURRENT_TIMESTAMP(), '{model_file_name}', 'xgboost', PARSE_JSON('{json.dumps(evaluation_metrics).replace(\"'\", \"''\")}'), PARSE_JSON('{json.dumps(hyperparameters).replace(\"'\", \"''\")}')\n",
    "\"\"\").collect()"
   ]
  },
  {
   "cell_type": "code",
   "execution_count": 92,
   "metadata": {},
   "outputs": [
    {
     "name": "stdout",
     "output_type": "stream",
     "text": [
      "Product trained, now updated\n"
     ]
    }
   ],
   "source": [
    "product_trained = session.sql(f\"\"\"\n",
    "    SELECT * FROM LU_PRD_PRODUCT_TRAINED WHERE PRODUCT_SKU = '{product_sku}'\n",
    "\"\"\").collect()\n",
    "\n",
    "if len(product_trained) > 0:\n",
    "    print(\"Product trained, now updated\")\n",
    "    session.sql(f\"\"\"\n",
    "        UPDATE LU_PRD_PRODUCT_TRAINED \n",
    "        SET \n",
    "            PRODUCT_SKU = '{product_sku}',\n",
    "            MIN_VOLUMN_SOLD = {df_model['UNITS_SOLD'].min()},\n",
    "            MAX_VOLUMN_SOLD = {df_model['UNITS_SOLD'].max()},\n",
    "            DATE_MODIFIED = CURRENT_TIMESTAMP(),\n",
    "            MODEL_PATH = '{model_file_name}',\n",
    "            MODEL_NAME = 'xgboost',\n",
    "            EVALUATION = PARSE_JSON('{json.dumps(evaluation_metrics)}'),\n",
    "            HYPER_PARAMS = PARSE_JSON('{json.dumps(hyperparameters)}')\n",
    "        WHERE PRODUCT_SKU = '{product_sku}'\n",
    "    \"\"\").collect()\n",
    "\n",
    "else:\n",
    "    print(\"Product not trained\")\n",
    "    session.sql(f\"\"\"\n",
    "        INSERT INTO LU_PRD_PRODUCT_TRAINED (PRODUCT_SKU, MIN_VOLUMN_SOLD, MAX_VOLUMN_SOLD, DATE_CREATED, DATE_MODIFIED, MODEL_PATH, MODEL_NAME, EVALUATION, HYPER_PARAMS)\n",
    "        SELECT '{product_sku}', {df_model['UNITS_SOLD'].min()}, {df_model['UNITS_SOLD'].max()}, CURRENT_TIMESTAMP(), CURRENT_TIMESTAMP(), '{model_file_name}', 'xgboost', PARSE_JSON('{json.dumps(evaluation_metrics)}'), PARSE_JSON('{json.dumps(hyperparameters)}')\n",
    "    \"\"\").collect()"
   ]
  }
 ],
 "metadata": {
  "kernelspec": {
   "display_name": "Python 3",
   "language": "python",
   "name": "python3"
  },
  "language_info": {
   "codemirror_mode": {
    "name": "ipython",
    "version": 3
   },
   "file_extension": ".py",
   "mimetype": "text/x-python",
   "name": "python",
   "nbconvert_exporter": "python",
   "pygments_lexer": "ipython3",
   "version": "3.11.9"
  }
 },
 "nbformat": 4,
 "nbformat_minor": 2
}
